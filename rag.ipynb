{
 "cells": [
  {
   "cell_type": "markdown",
   "metadata": {},
   "source": [
    "# RAG With Multi Data Source"
   ]
  },
  {
   "cell_type": "code",
   "execution_count": 1,
   "metadata": {},
   "outputs": [],
   "source": [
    "from langchain_community.tools import WikipediaQueryRun\n",
    "from langchain_community.utilities import WikipediaAPIWrapper\n",
    "from langchain_community.document_loaders import PyPDFLoader,WebBaseLoader\n",
    "from langchain_text_splitters import RecursiveCharacterTextSplitter\n",
    "from langchain_community.embeddings import OpenAIEmbeddings\n",
    "from langchain.tools.retriever import create_retriever_tool\n",
    "from langchain_community.tools import ArxivQueryRun\n",
    "from langchain_community.utilities import ArxivAPIWrapper\n",
    "#creating agents which will combine the tools,llm and prompt\n",
    "from langchain.agents import create_openai_tools_agent\n",
    "#to run the agents we need executer\n",
    "from langchain.agents import AgentExecutor\n",
    "import os\n",
    "from langchain_openai import ChatOpenAI\n",
    "from dotenv import load_dotenv\n",
    "#pulling prompt template from hub\n",
    "from langchain import hub\n",
    "load_dotenv()\n",
    "os.environ['OPENAI_API_KEY']=os.getenv('open_ai_key')\n",
    "from langchain_community.vectorstores import FAISS"
   ]
  },
  {
   "cell_type": "code",
   "execution_count": 2,
   "metadata": {},
   "outputs": [],
   "source": [
    "#wikipedia tool built by langchain\n",
    "#creating wikipedia api wrapper and running the wrapper with the uery run basically it is kinda json which will go into the api\n",
    "#in query run and results will get stored in wiki variable\n",
    "api_wrapper=WikipediaAPIWrapper(top_k_results=1,doc_content_chars_max=250)\n",
    "wiki=WikipediaQueryRun(api_wrapper=api_wrapper)"
   ]
  },
  {
   "cell_type": "code",
   "execution_count": 3,
   "metadata": {},
   "outputs": [],
   "source": [
    "#extracting data from documents\n",
    "docs=PyPDFLoader('keec102.pdf').load()\n",
    "text_splitter=RecursiveCharacterTextSplitter(chunk_size=1000,chunk_overlap=200)\n",
    "splitted_pdfs=text_splitter.split_documents(docs)"
   ]
  },
  {
   "cell_type": "code",
   "execution_count": 4,
   "metadata": {},
   "outputs": [],
   "source": [
    "web_doc=WebBaseLoader('https://docs.python.org/3/tutorial/classes.html').load()\n",
    "splitted_html=text_splitter.split_documents(web_doc)"
   ]
  },
  {
   "cell_type": "code",
   "execution_count": 48,
   "metadata": {},
   "outputs": [],
   "source": [
    "db_pdf=FAISS.from_documents(splitted_pdfs,OpenAIEmbeddings())\n",
    "db_web=FAISS.from_documents(splitted_html,OpenAIEmbeddings())\n",
    "retreiver_pdf=db_pdf.as_retriever()\n",
    "retreiver_web=db_web.as_retriever()"
   ]
  },
  {
   "cell_type": "code",
   "execution_count": 49,
   "metadata": {},
   "outputs": [],
   "source": [
    "#pdf and web tool custom made\n",
    "#this tool is made upon the retreiver first we have to create retreiver then this tool\n",
    "#it sees and only trigger based on description\n",
    "retreival_tool_pdf=create_retriever_tool(retreiver_pdf,'economics',\"It is economics chapter in which they have talked about indian economy from 1950-1990 with 5 year plan\")\n",
    "retreival_tool_web=create_retriever_tool(retreiver_web,'Python_documentation','It contains documentation for python')"
   ]
  },
  {
   "cell_type": "code",
   "execution_count": 28,
   "metadata": {},
   "outputs": [],
   "source": [
    "arxiv_wrapper=ArxivAPIWrapper(top_k_result=1,doc_content_chars_max=250)\n",
    "arxiv=ArxivQueryRun(api_wrapper=arxiv_wrapper)"
   ]
  },
  {
   "cell_type": "code",
   "execution_count": 50,
   "metadata": {},
   "outputs": [],
   "source": [
    "#we are defining the series here first it will se the data in website then in pdf then on wkipedia then arxiv\n",
    "tools=[retreival_tool_web,retreival_tool_pdf,wiki,arxiv]"
   ]
  },
  {
   "cell_type": "code",
   "execution_count": 30,
   "metadata": {},
   "outputs": [],
   "source": [
    "llm=ChatOpenAI(model='gpt-3.5-turbo',temperature=0.5)"
   ]
  },
  {
   "cell_type": "code",
   "execution_count": 31,
   "metadata": {},
   "outputs": [],
   "source": [
    "prompt=hub.pull('hwchase17/openai-functions-agent')"
   ]
  },
  {
   "cell_type": "code",
   "execution_count": 51,
   "metadata": {},
   "outputs": [],
   "source": [
    "agent=create_openai_tools_agent(llm,tools,prompt)"
   ]
  },
  {
   "cell_type": "code",
   "execution_count": 52,
   "metadata": {},
   "outputs": [],
   "source": [
    "agent_executer=AgentExecutor(agent=agent,tools=tools,verbose=True)\n"
   ]
  },
  {
   "cell_type": "code",
   "execution_count": 54,
   "metadata": {},
   "outputs": [
    {
     "name": "stdout",
     "output_type": "stream",
     "text": [
      "\n",
      "\n",
      "\u001b[1m> Entering new AgentExecutor chain...\u001b[0m\n",
      "\u001b[32;1m\u001b[1;3m\n",
      "Invoking: `wikipedia` with `{'query': 'Attention Is All You Need'}`\n",
      "\n",
      "\n",
      "\u001b[0m\u001b[38;5;200m\u001b[1;3mPage: Attention Is All You Need\n",
      "Summary: \"Attention Is All You Need\" is a landmark 2017 research paper authored by eight scientists working at Google, responsible for expanding 2014 attention mechanisms proposed by Bahdanau et al. into a new deep lea\u001b[0m\u001b[32;1m\u001b[1;3m\"Attention Is All You Need\" is a landmark research paper from 2017 authored by eight scientists at Google. It expanded on the attention mechanisms proposed in 2014 by Bahdanau et al. into a new deep learning architecture. The paper introduced the Transformer model, which has become a fundamental architecture in the field of natural language processing and machine translation.\u001b[0m\n",
      "\n",
      "\u001b[1m> Finished chain.\u001b[0m\n"
     ]
    },
    {
     "data": {
      "text/plain": [
       "{'input': 'Tell me about attention is all you need',\n",
       " 'output': '\"Attention Is All You Need\" is a landmark research paper from 2017 authored by eight scientists at Google. It expanded on the attention mechanisms proposed in 2014 by Bahdanau et al. into a new deep learning architecture. The paper introduced the Transformer model, which has become a fundamental architecture in the field of natural language processing and machine translation.'}"
      ]
     },
     "execution_count": 54,
     "metadata": {},
     "output_type": "execute_result"
    }
   ],
   "source": [
    "agent_executer.invoke({\"input\":\"Tell me about attention is all you need\"})"
   ]
  },
  {
   "cell_type": "code",
   "execution_count": null,
   "metadata": {},
   "outputs": [],
   "source": []
  }
 ],
 "metadata": {
  "kernelspec": {
   "display_name": "Python 3",
   "language": "python",
   "name": "python3"
  },
  "language_info": {
   "codemirror_mode": {
    "name": "ipython",
    "version": 3
   },
   "file_extension": ".py",
   "mimetype": "text/x-python",
   "name": "python",
   "nbconvert_exporter": "python",
   "pygments_lexer": "ipython3",
   "version": "3.12.3"
  }
 },
 "nbformat": 4,
 "nbformat_minor": 2
}
