{
 "cells": [
  {
   "cell_type": "markdown",
   "metadata": {},
   "source": [
    "## RAG Pipeline with Vector Database"
   ]
  },
  {
   "cell_type": "code",
   "execution_count": 49,
   "metadata": {},
   "outputs": [],
   "source": [
    "from langchain_community.document_loaders import TextLoader,WebBaseLoader,PyPDFLoader\n",
    "from langchain.text_splitter import RecursiveCharacterTextSplitter\n",
    "import bs4\n",
    "import os\n",
    "from dotenv import load_dotenv"
   ]
  },
  {
   "cell_type": "code",
   "execution_count": 6,
   "metadata": {},
   "outputs": [],
   "source": [
    "loader=TextLoader('10th_eco_chapter_2.txt')"
   ]
  },
  {
   "cell_type": "code",
   "execution_count": 13,
   "metadata": {},
   "outputs": [
    {
     "data": {
      "text/plain": [
       "True"
      ]
     },
     "execution_count": 13,
     "metadata": {},
     "output_type": "execute_result"
    }
   ],
   "source": [
    "load_dotenv()"
   ]
  },
  {
   "cell_type": "code",
   "execution_count": 14,
   "metadata": {},
   "outputs": [],
   "source": [
    "os.environ['OPENAI_API_KEY']=os.getenv('open_ai_key')"
   ]
  },
  {
   "cell_type": "code",
   "execution_count": 39,
   "metadata": {},
   "outputs": [
    {
     "data": {
      "text/plain": [
       "[Document(page_content='\\n\\nEver wondered how the local, national or global economy works? We take a look at some of the key definitions and principles of economics, as well as different types of economies. \\n\\n \\n\\nShare this post\\n\\n\\n \\n\\n \\n\\n \\n\\n \\n\\n\\n\\n\\n\\nWhether it’s thriving or in decline, the global and local economy is rarely out of the news. But what, exactly, do these terms mean? And how does an economy work? We explore the basic principles of economics, exploring how they affect the world around us and how we influence them.\\xa0\\nAs well as looking at some of the key terms and concepts related to the economy, we also examine some of the different types of economic systems and types of economies. Finally, we’ll explore how an economy works.\\xa0\\nA definition of key terms\\xa0\\nLet’s start by exploring some terms that are going to crop up throughout the article. These simple definitions can be a useful reference:\\n\\nBoom and bust. Also known as the business cycle, this refers to the economic pattern of growth followed by recession.\\xa0\\nBudget. The yearly outline for public spending and taxation in a particular country.\\xa0\\nCapital. Essentially, capital refers to either money or assets that are used in the economy.\\nDebt. A key part of economic growth, debt allows the government, companies and individuals to make investments they wouldn’t otherwise be able to afford.\\xa0\\nEconomy. An economy is a complex web of production and consumption that determines how resources and capital are allocated.\\xa0\\nEconomics. The study of how a society uses resources.\\xa0\\nFinancial system. The institutions and organisations that facilitate the movement of money in an economy.\\xa0\\nGDP. Gross domestic product, the total value of a country’s finished goods and services in a specific time period.\\xa0\\nGlobalisation. The trend towards interconnectedness around the world. Often meaning that goods, services and resources are made accessible to a global audience.\\xa0\\nGrowth. The increase in the goods and services produced per capita in an economy over a period of time.\\xa0\\nInflation. The wholesale rise of prices across an economy. Usually expressed as an annual percentage change. It usually means the decrease in purchasing power of a currency.\\xa0\\nMacroeconomics. The big picture analysis of the economy, including trends in inflation, growth, and similar factors.\\xa0\\nMicroeconomics. The finer-detail analysis of the economy, including how households and businesses make financial decisions.\\xa0\\nRecession. A period of negative economic growth, sometimes measured as a sustained period of falling GDP.\\xa0\\nStock market. An interconnected system of businesses, investors, and securities, where people buy and sell shares in companies.\\xa0\\n\\nWhat is an economy? A brief summary\\xa0\\nBefore we look at how the economy works, let’s first explore the term in more detail. As you might expect, it’s a fairly complex concept with many different elements. As this is an introductory article, we’ll keep things simple. However, if you want to learn about the economy in more detail, we’ve provided links to courses and resources that can help you.\\xa0\\nYou can also check out the video from our open step; what is an economy?\\xa0\\n\\nFirst, let’s explore the different levels of complexity when it comes to an economy:\\xa0\\nLocal economies\\xa0\\nWhen we think about a local economy, we’re referring to the interconnected markets and networks within a particular community. The local government, organisations, businesses, and people all contribute to this economy.\\xa0\\nLocal businesses may purchase their raw materials from sellers who are nearby. These sellers may get grants or tax relief from local councils or governments. People in the area pay tax, work for businesses, and purchase goods and services.\\xa0\\nOf course, historically, such local economies were fairly commonplace. As we explore in our open step on globalisation, until the beginning in the 19th Century, consumption and production usually happened in the same place. Food was grown locally, and those in the surrounding area purchased it, for example.\\xa0\\nHowever, as countries, and eventually the entire world, became more accessible and connected, economic webs expanded to become ever more complex. Of course, local economies still exist; they’re just part of something larger.\\xa0\\nNational economies\\xa0\\nAccording to the Bank of England, when we talk of a national economy, such as the UK economy, we’re referring to a system for distributing scarce resources. An economy, they suggest, is based on the fact that resources, such as workers, land and raw materials, are limited. Demand, however, is infinite.\\xa0\\xa0\\nAlthough this principle of distributing scarce resources is at the heart of any economy, national governments often have radically different approaches to how they mould and manufacture a nation’s economy. That’s why the US economy, for example, is very different from the Chinese economy.\\nBy the time we could move resources and produce across borders, these national economies again became part of a much wider network of interconnected nations.\\nThe global economy\\nThe world economy (also known as the global economy) refers to the economy of all humans of the world. This definition includes the various economic systems and activities that take place within and between nations.\\xa0\\nThis broad scope captures the exchange of capital (money and assets) as well as the consumption and production of goods. Thanks to globalisation, international trade, finance and investment all help to power the world’s economy.\\xa0\\n\\n\\n\\n\\n\\n\\n\\n\\n\\n\\n\\n\\n\\n\\n\\nThe University of Nottingham\\n\\r\\n\\t\\t\\t\\t\\t\\t\\t\\t\\t\\t\\t\\t\\t\\t\\t\\t\\t\\tThe Politics of Economics and the Economics of Politicians\\t\\t\\t\\t\\t\\t\\t\\t\\t\\t\\t\\t\\t\\t\\t\\t\\t\\n\\n\\n\\n\\n3 weeks\\n\\n\\n\\n\\n\\n\\n\\nPolitics & Society\\n\\n\\n\\n\\n\\n\\n\\n\\n3 weeks\\n\\n\\n\\nFind out more\\n\\n\\n\\n\\n\\n\\n\\n\\n\\n\\n\\n\\n\\n\\n\\n\\n\\nThe University of Western Australia\\n\\r\\n\\t\\t\\t\\t\\t\\t\\t\\t\\t\\t\\t\\t\\t\\t\\t\\t\\t\\tAgriculture, Economics and Nature\\t\\t\\t\\t\\t\\t\\t\\t\\t\\t\\t\\t\\t\\t\\t\\t\\t\\n\\n\\n\\n\\n6 weeks\\n\\n\\n\\n\\n\\n\\n\\nNature & Environment,Politics & Society\\n\\n\\n\\n\\n\\n\\n\\n\\n6 weeks\\n\\n\\n\\nFind out more\\n\\n\\n\\n\\n\\n\\n\\nTypes of economic systems\\xa0\\nSo far, we’ve spoken mainly in general terms. We’ve looked at how economies in general function. However, there are all kinds of different economic systems that local and national economies might adopt. What’s more, throughout history, we’ve seen various types of systems emerge, thrive, and decline.\\xa0\\nBelow, we’ve briefly explored some of the main types of economic systems that have been used and are used today:\\xa0\\xa0\\nFeudalism\\xa0\\nThis type of economic system was used in the Middle Ages. Essentially a king or ruler ‘owned’ all of the lands in a particular area. That ruler would then allocate land to certain nobles who fought for them. Regular people worked the nobles’ land, paying tax by means of products and services (such as food and farming) in exchange for protection.\\xa0\\nCapitalism\\xa0\\nMost economies around the world today follow a capitalist system. One of the key characteristics of a capitalist economy is that private entities (as opposed to state-owned) control property and production in accord with their interests. In capitalism, supply and demand mean that market prices can be set to serve the interest of the wider society.\\nAnother stand-out feature of a capitalist economy is that there is a motivation to make a profit. Examples of capitalist economies include the US, UK, and Australia.\\xa0\\nSocialism\\nWhile in capitalism, private companies own the means of production, in socialism, everything is owned by the state or the public. Rather than working for the profit of the individual, everyone works for wealth that is distributed among the people.\\xa0\\nRather than supply and demand setting prices and the production of goods, in a socialist economy, products and services are produced based on usage value – the needs of society. Examples of socialist economies include North Korea and The Democratic Socialist Republic of Sri Lanka.\\xa0\\nCommunism\\nMuch like with socialism, a communist economy aims for ownership of the means of production by the community. It aims to create a classless society where everyone contributes and takes out according to their ability and needs. However, this often comes at the expense of individual freedoms.\\xa0\\xa0\\nExamples of communist countries today include China, Cuba and Vietnam. However, as we explore in our open step, countries can be both capitalist and communist.\\xa0\\nTypes of economies\\nAlthough the different types of economic systems outlined above exist, it’s rarely as rigid as that. As we explore in our open step on different types of economies, the economy and markets are dependent on how they allocate the factors of production to control the economy.\\xa0\\nMarkets are the mechanisms by which scarce resources are allocated. They ensure that consumers and producers can obtain the goods and services they want. When it comes to macroeconomics, the type of market a country has plays a big role in its economy.\\xa0\\nThere are two extremes here, depending on how much influence a government has over the market. As you’ll notice throughout this article, politics and economics are closely linked subjects. With that in mind, there are three different types of economy at the macro level:\\xa0\\nCommand markets\\nAt this extreme, all the factors of production are controlled by the state. This means:\\xa0\\n\\nWhat to produce is determined by government preferences\\nHow to produce is determined by the government and their employees\\nFor whom to produce is determined by government preferences\\n\\nFree markets\\nAt the other end of the spectrum are free-market economies. Rather than the government controlling decisions, the factors of production are decided by the consumer and producer and usually depend on money. This means:\\xa0\\n\\nWhat to produce is determined by consumers’ preferences\\nHow to produce is determined by producers seeking profit\\nFor whom to produce is determined by purchasing power\\n\\nMixed markets\\nAt the middle of the spectrum is a mixed market – a compromise between the other extremes. This means that there is some level of government intervention, usually setting boundaries in which the free market can operate. This means:\\xa0\\n\\nWhat to produce is determined by consumers’ preferences and partly by the government.\\nHow to produce is determined by producers seeking profits and partly by the government.\\nFor whom to produce is determined by purchasing power and partly by government preferences.\\n\\n\\n\\n\\n\\n\\n\\n\\n\\n\\n\\n\\n\\n\\n\\n\\nSOAS University of London\\n\\r\\n\\t\\t\\t\\t\\t\\t\\t\\t\\t\\t\\t\\t\\t\\t\\t\\t\\t\\tRisk Management in the Global Economy\\t\\t\\t\\t\\t\\t\\t\\t\\t\\t\\t\\t\\t\\t\\t\\t\\t\\n\\n\\n\\n\\n4 weeks\\n\\n\\n\\n\\n\\n\\n\\nBusiness & Management,Science, Engineering & Maths\\n\\n\\n\\n\\n\\n\\n\\n\\n4 weeks\\n\\n\\n\\nFind out more\\n\\n\\n\\n\\n\\n\\n\\n\\n\\n\\n\\n\\n\\n\\n\\n\\n\\nUCL (University College London) \\n\\r\\n\\t\\t\\t\\t\\t\\t\\t\\t\\t\\t\\t\\t\\t\\t\\t\\t\\t\\tGlobal Prosperity Beyond GDP\\t\\t\\t\\t\\t\\t\\t\\t\\t\\t\\t\\t\\t\\t\\t\\t\\t\\n\\n\\n\\n\\n4 weeks\\n\\n\\n\\n\\n\\n\\n\\nPolitics & Society,Nature & Environment\\n\\n\\n\\n\\n\\n\\n\\n\\n4 weeks\\n\\n\\n\\nFind out more\\n\\n\\n\\n\\n\\n\\n\\n\\n\\n\\n\\n\\n\\n\\n\\n\\n\\nUniversity of Padova\\n\\r\\n\\t\\t\\t\\t\\t\\t\\t\\t\\t\\t\\t\\t\\t\\t\\t\\t\\t\\tElectrical Industry: Production and Economics\\t\\t\\t\\t\\t\\t\\t\\t\\t\\t\\t\\t\\t\\t\\t\\t\\t\\n\\n\\n\\n\\n4 weeks\\n\\n\\n\\n\\n\\n\\n\\nScience, Engineering & Maths,Business & Management\\n\\n\\n\\n\\n\\n\\n\\n\\n4 weeks\\n\\n\\n\\nFind out more\\n\\n\\n\\n\\n\\n\\n\\nOther types of economies\\nAs we’ve seen, there are different levels at which economies operate. Whether at a local, national or international level, the way we organise our markets and distribute resources can vary considerably. That’s why you’ll often see different phrases related to the economy. Here are some other notable types that you might encounter:\\xa0\\n\\nGreen economy. An economy with the aim of developing sustainably without damaging the environment.\\xa0 Often, this means the economy is focused on being low-carbon, using resources efficiently, and is socially inclusive.\\xa0\\nDigital economy. An economy based on computers and the internet. In the modern world, the digital economy is increasingly a part of the traditional economy. People and devices around the world now form an interconnected web, where trade and commerce are possible at the press of a button.\\xa0\\nGig economy. Another modern aspect of the wider economy is the gig economy. Here, the labour market is made up of freelancers and short-term contracts rather than permanent jobs. It gives flexibility to employers and employees, but it can make career progression more difficult.\\n\\nHow does the economy work?\\xa0\\nA key part of understanding how an economy works is to understand what underpins it and the principles that drive it. We’ve explored the basics of both of these points above, meaning we can now look at the way an economy forms and works and the factors that impact and are impacted by it.\\xa0\\nClick here to expand the image\\nAgain, this is a top-level view. If you want to learn more about economics, you can check out our range of online economics courses.\\xa0\\nHow an economy forms\\xa0\\nAs defined on the financial website Investopedia, an economy is formed whenever a group of people combine their skills, interests, and desire to trade with others. Essentially, when people start to trade because they think it will make them better off, an economic market forms.\\nAs we saw in our video above, households, businesses, and governments, along with the resource market and product market, form the basis of an economy.\\xa0\\nMacroeconomics and microeconomics\\xa0\\nWhen thinking about the economy from an economics perspective, there are two sides to consider – macroeconomics and microeconomics.\\xa0\\nAccording to the IMF, macroeconomics focuses on the ‘big picture’ of the economy, such as the employment rate, gross domestic product (GDP), and inflation rates. These are the factors that a nation’s government creates fiscal policies in relation to.\\xa0\\nMicroeconomics looks at the more granular detail of an economy. They explore how households and businesses make financial decisions related to factors such as the impact of supply and demand on a market.\\xa0\\nBoth micro and macro factors influence the way an economy works, showing just how much complexity there is in this area.\\xa0\\nThe forces that impact an economy (economic indicators)\\nSo, an economy works by creating a network of markets composed of buyers and sellers. These economic markets allocate scarce resources among the players within that market. When we think of a country’s economy, we’re usually thinking in terms of macroeconomics. Similarly, when we’re thinking of the individual markets in the network, we think in terms of microeconomics.\\xa0\\nSo what determines how well or poorly an economy performs? As we explore in our open step on economic factors, some of the aspects that influence an economy include growth, unemployment rates, inflation, interest and exchange rates, and commodity (oil, steel, gold, etc) prices. These factors affect the income and purchasing power of households and organisations.\\nWhen we measure the success of a national economy, we talk in terms of gross domestic product – the value of the country’s finished goods and services in a specific time period.\\xa0\\nThe impacts of an economy\\xa0\\nWe’ve learned that the economy is all around us and that we all play a part in it. But how does the economy affect our day-to-day life? As you might expect, there are several factors to consider here. We’ve outlined just a few of them below:\\xa0\\n\\nLiving costs. The cost of living is tied closely to the economy. It’s defined as the amount of money needed to cover basic expenses such as food, housing and taxes. This cost is measured by the inflation rate. As goods and services cost more, the power of a unit of currency lessens.\\nEmployment rates. A booming economy will also mean that rates of employment increase. As more goods and services (resources) are in demand, more people are needed to provide them, creating more jobs. The same is true of the opposite – when demand is low, there are fewer jobs available.\\xa0\\nGovernment spending. The performance of a country’s economy will impact the policies and spending of the government. As businesses make more money and pay more tax, there is improved cash flow, allowing the government to invest in infrastructure and services.\\xa0\\nQuality of life. As a country’s economy grows, there are more resources available to spend on sectors such as education and healthcare. What’s more, it means there are more jobs available, a reduction in poverty, and overall improved wellbeing for the people in that economy. At least, in theory.\\xa0\\n\\nAgain, this is a fairly simplified explanation of these points. In reality, there are many complexities and mechanisms that determine the economic impacts on individuals, organisations and nations. It’s linked to the way societies grow and develop, and can be a force for change.\\xa0\\nAs Guilherme Winspear, Head of Marketing at fintech company Pockit highlights:\\n“The economy is in constant evolution and the digital revolution of the past decades have inspired a number of companies to address various consumer needs and drive inclusion.”\\nHe also outlines the fact that tech companies can impact both the local and global economies. Whether it’s through access to education or providing innovative banking services, technology can be transformative.\\nFinal thoughts\\nSo how does an economy work? Well, it’s complicated. However, in essence, economies work by distributing scarce resources among individuals and entities. A series of markets where goods and services are exchanged, facilitated by capital, combine to make an economy. These networks exist at a local, national and international level.\\xa0\\nEconomies can take many different forms, focus on various priorities, and have different levels of government intervention. On both a micro and macro level, there are factors that determine how well or badly an economy performs. Similarly, our lives are affected by the various ebbs and flows of the systems we’re a part of.\\xa0\\nLearning about the economy can encourage you to understand the various forces that impact it. At FutureLearn,\\xa0 we have various courses that can help you learn about the economy.\\xa0\\n\\n\\n\\n\\n\\n\\n\\n\\n\\n\\n\\n\\n\\n\\n\\nUniversity of Leeds\\n\\r\\n\\t\\t\\t\\t\\t\\t\\t\\t\\t\\t\\t\\t\\t\\t\\t\\t\\t\\tEnvironmental Challenges: Justice in Natural Resource Management\\t\\t\\t\\t\\t\\t\\t\\t\\t\\t\\t\\t\\t\\t\\t\\t\\t\\n\\n\\n\\n\\n2 weeks\\n\\n\\n\\n\\n\\n\\n\\nNature & Environment,Science, Engineering & Maths\\n\\n\\n\\n\\n\\n\\n\\n\\n2 weeks\\n\\n\\n\\nFind out more\\n\\n\\n\\n\\n\\n\\n\\n\\n\\n\\n\\n\\n\\n\\n\\n\\n\\nUniversity of Basel\\n\\r\\n\\t\\t\\t\\t\\t\\t\\t\\t\\t\\t\\t\\t\\t\\t\\t\\t\\t\\tExploring Possible Futures: Modeling in Environmental and Energy Economics\\t\\t\\t\\t\\t\\t\\t\\t\\t\\t\\t\\t\\t\\t\\t\\t\\t\\n\\n\\n\\n\\n5 weeks\\n\\n\\n\\n\\n\\n\\n\\nNature & Environment\\n\\n\\n\\n\\n\\n\\n\\n\\n5 weeks\\n\\n\\n\\nFind out more\\n\\n\\n\\n\\n\\n\\n\\n', metadata={'source': 'https://www.futurelearn.com/info/blog/how-does-the-economy-work'})]"
      ]
     },
     "execution_count": 39,
     "metadata": {},
     "output_type": "execute_result"
    }
   ],
   "source": [
    "## web based loader\n",
    "web_loader=WebBaseLoader(web_path=\"https://www.futurelearn.com/info/blog/how-does-the-economy-work\",\n",
    "              bs_kwargs=dict(parse_only=bs4.SoupStrainer(\n",
    "                lambda tag,attrs: (\n",
    "                  'class' in attrs and\n",
    "                  'entry-content fl-editor-content' in attrs['class']\n",
    "                  )\n",
    ")))\n",
    "web_loader.load()"
   ]
  },
  {
   "cell_type": "code",
   "execution_count": 48,
   "metadata": {},
   "outputs": [],
   "source": [
    "##pdf reader\n",
    "pdf_loader=PyPDFLoader(r'NCERT-Class-10-Economics.pdf')"
   ]
  },
  {
   "cell_type": "code",
   "execution_count": 51,
   "metadata": {},
   "outputs": [],
   "source": [
    "text_splitter=RecursiveCharacterTextSplitter(chunk_size=1000,chunk_overlap=200)\n",
    "chunk_pdfs=text_splitter.split_documents(pdf_loader.load())\n",
    "# chunk_pdfs"
   ]
  },
  {
   "cell_type": "code",
   "execution_count": 53,
   "metadata": {},
   "outputs": [
    {
     "name": "stderr",
     "output_type": "stream",
     "text": [
      "C:\\Users\\shiri\\AppData\\Roaming\\Python\\Python312\\site-packages\\langchain_core\\_api\\deprecation.py:119: LangChainDeprecationWarning: The class `OpenAIEmbeddings` was deprecated in LangChain 0.0.9 and will be removed in 0.3.0. An updated version of the class exists in the langchain-openai package and should be used instead. To use it run `pip install -U langchain-openai` and import as `from langchain_openai import OpenAIEmbeddings`.\n",
      "  warn_deprecated(\n"
     ]
    }
   ],
   "source": [
    "#vector embeddings and vector store\n",
    "from langchain_community.embeddings import OpenAIEmbeddings\n",
    "from langchain_community.embeddings import OllamaEmbeddings\n",
    "from langchain_community.vectorstores import FAISS\n",
    "\n",
    "db=FAISS.from_documents(chunk_pdfs,OpenAIEmbeddings())"
   ]
  },
  {
   "cell_type": "code",
   "execution_count": 55,
   "metadata": {},
   "outputs": [
    {
     "name": "stdout",
     "output_type": "stream",
     "text": [
      "people desire are regular work, better\n",
      "wages, and decent price for their cropsor other products that they produce.\n",
      "In other words, they want more\n",
      "income.\n",
      "Besides seeking more income, one-\n",
      "way or the other, people also seekthings like equal treatment, freedom,\n",
      "security, and respect of others. They\n",
      "resent discrimination. All these areimportant goals. In fact, in some cases,\n",
      "these may be more important thanmore income or more consumption\n",
      "because material goods are not all\n",
      "that you need to live.\n",
      "Money, or material things that one\n",
      "can buy with it, is one factor on which\n",
      "our life depends. But the quality of ourlife also depends on non-material\n",
      "things mentioned above.  If it is not\n",
      "obvious to you, then just think of therole of your friends in your life. You\n",
      "may desire their friendship.  Similarly,\n",
      "there are many things that are noteasily measured but they mean a lot\n",
      "to our lives. These are often ignored.\n",
      "T OS  LTHOSE PEOPLET OS   LTHOSE PEOPLE\n",
      "DON’T WANT TO\n",
      "DEVELOP!\n"
     ]
    }
   ],
   "source": [
    "retreived_result=db.similarity_search('Money, or material things that one\\\n",
    "can buy with it, is one factor on which\\\n",
    "our life depends.')\n",
    "print(retreived_result[0].page_content)"
   ]
  },
  {
   "cell_type": "code",
   "execution_count": null,
   "metadata": {},
   "outputs": [],
   "source": []
  }
 ],
 "metadata": {
  "kernelspec": {
   "display_name": "Python 3",
   "language": "python",
   "name": "python3"
  },
  "language_info": {
   "codemirror_mode": {
    "name": "ipython",
    "version": 3
   },
   "file_extension": ".py",
   "mimetype": "text/x-python",
   "name": "python",
   "nbconvert_exporter": "python",
   "pygments_lexer": "ipython3",
   "version": "3.12.3"
  }
 },
 "nbformat": 4,
 "nbformat_minor": 2
}
