{
 "cells": [
  {
   "cell_type": "code",
   "execution_count": 1,
   "metadata": {},
   "outputs": [],
   "source": [
    "from langchain_community.document_loaders import PyPDFLoader,TextLoader\n",
    "from langchain_text_splitters import RecursiveCharacterTextSplitter\n",
    "from langchain_community.vectorstores import FAISS\n",
    "from langchain_core.prompts import ChatPromptTemplate,PromptTemplate\n",
    "from langchain_core.prompts.chat import SystemMessagePromptTemplate,HumanMessagePromptTemplate\n",
    "from langchain_openai import OpenAIEmbeddings,ChatOpenAI\n",
    "from langchain import hub\n",
    "from langchain.tools.retriever import create_retriever_tool\n",
    "from langchain.agents import create_openai_tools_agent,AgentExecutor\n",
    "import os\n",
    "from dotenv import load_dotenv\n",
    "load_dotenv()\n",
    "os.environ['OPENAI_API_KEY']=os.getenv(\"open_ai_key\")"
   ]
  },
  {
   "cell_type": "code",
   "execution_count": 2,
   "metadata": {},
   "outputs": [],
   "source": [
    "#loading the text doc\n",
    "txt_loader=TextLoader('chardham.txt').load()"
   ]
  },
  {
   "cell_type": "code",
   "execution_count": 3,
   "metadata": {},
   "outputs": [],
   "source": [
    "# splitiing the documents\n",
    "text_splitter=RecursiveCharacterTextSplitter(chunk_size=1000,chunk_overlap=200)\n",
    "chunk_docs=[]\n",
    "chunk_docs.extend(text_splitter.split_documents(txt_loader))"
   ]
  },
  {
   "cell_type": "code",
   "execution_count": 4,
   "metadata": {},
   "outputs": [],
   "source": [
    "#creating embeddings\n",
    "db=FAISS.from_documents(chunk_docs,OpenAIEmbeddings())"
   ]
  },
  {
   "cell_type": "code",
   "execution_count": 27,
   "metadata": {},
   "outputs": [],
   "source": [
    "#chat prompt template\n",
    "prompt=\"\"\"You are a helpful assistant which answers only based upon context.Answer the following question based upon the context only.\n",
    "    Think step by step before providing a detailed answer.\n",
    "    Give all the related data which are present in the documents for the particular query.\n",
    "    To do this frst translate the language of input to hindi then search in the context then again translate the response in \n",
    "    the language of input\n",
    "    For each extra details i will give you $50,000 for the correct ones.\n",
    "    I will tip you $10,000 if the user finds the answer helpful.\n",
    "    Translate the response in the language of input.\n",
    "    Do not answer the queries which are not related to context.\n",
    "    \"\"\""
   ]
  },
  {
   "cell_type": "code",
   "execution_count": 19,
   "metadata": {},
   "outputs": [],
   "source": [
    "llm=ChatOpenAI(model='gpt-4-turbo',temperature=0)\n",
    "# from langchain_community.llms import Ollama\n",
    "# #Ollama llam3\n",
    "# llm=Ollama(model='llama3')\n",
    "# llm"
   ]
  },
  {
   "cell_type": "code",
   "execution_count": 20,
   "metadata": {},
   "outputs": [],
   "source": [
    "#creating retreivar\n",
    "#retreivar acts as an additional step in between db vector search and the llm it will return the document for a particular query\n",
    "retreiver=db.as_retriever()"
   ]
  },
  {
   "cell_type": "code",
   "execution_count": 28,
   "metadata": {},
   "outputs": [],
   "source": [
    "open_ai_prompt = hub.pull(\"hwchase17/openai-tools-agent\")\n",
    "open_ai_prompt.messages[0]=SystemMessagePromptTemplate(prompt=PromptTemplate(input_variables=[], template=prompt))"
   ]
  },
  {
   "cell_type": "code",
   "execution_count": 29,
   "metadata": {},
   "outputs": [],
   "source": [
    "retrieval_tool_doc=create_retriever_tool(retreiver,'Chardham_Information','It will search the  different contact information of \\\n",
    "    hospital,police station,petrol pump,taxi rates,helicopter rates,cart rates etc. which is present in the documents related to chardham. for any information related to chardhmam \\\n",
    "       use this tool. ')\n"
   ]
  },
  {
   "cell_type": "code",
   "execution_count": 30,
   "metadata": {},
   "outputs": [],
   "source": [
    "\n",
    "def search_answer(query):\n",
    "    refined_prompt=\"\"\"You are a ChardhamGPT which helps user as a guide during yatra.\n",
    "        You can also create a travel plan for chardham,along with all the details should be taken care of etc. from \n",
    "        your training knowledge.\n",
    "        You know only about Chardham yatra.\n",
    "        Answer the following question based on the provided context.\n",
    "        If there is no information in context then answer according to your training knowledge which are related to ChardhamYatra.\n",
    "        If you answer the queries which are not related to Chardham Yatra I will fine you $1,000,000.\n",
    "        Think step by step before providing a detailed answer.\n",
    "        I will tip you $10,000 if the user finds the answer helpful.\n",
    "        If there is relatable information in context then identify and transform the context in the language of the human/user/query.\n",
    "        Do not answer the queries which are not related to chardham yatra.\n",
    "        <context>\n",
    "        {context}\n",
    "        </context>\n",
    "        \"\"\"\n",
    "    tools=[retrieval_tool_doc] \n",
    "    agent=create_openai_tools_agent(llm,tools,open_ai_prompt)\n",
    "    agent_executor=AgentExecutor(agent=agent,tools=tools,verbose=False)\n",
    "    response=agent_executor.invoke({\"input\":query})\n",
    "\n",
    "    refine=ChatPromptTemplate.from_messages(\n",
    "    [\n",
    "        (\"system\",refined_prompt),\n",
    "        (\"human\",\"The language of the answer should be same as of query.You have to include atleast all  \\\n",
    "        information which are present in system prompt.Question: <query>{query}</query>Answer:\")\n",
    "    ])\n",
    "\n",
    "    chain=refine|llm\n",
    "    answer=chain.invoke({\"query\":query,\"context\":response})\n",
    "    return answer.content\n"
   ]
  },
  {
   "cell_type": "code",
   "execution_count": 33,
   "metadata": {},
   "outputs": [
    {
     "data": {
      "text/plain": [
       "'কেদারনাথে হেলিকপ্টারের হার নিম্নরূপ:\\n\\n1. **গুপ্তকাশী থেকে:**\\n   - অপারেটরসমূহ: অ্যারো এয়ারক্রাফ্ট, আর্যান এভিয়েশন\\n   - রাউন্ড ট্রিপ ভাড়া: ₹7,750.00\\n\\n2. **ফাটা থেকে:**\\n   - অপারেটরসমূহ: পওয়ান হান্স, চিপসান এভিয়েশন, থাম্বি এভিয়েশন, পিনাকল এয়ার\\n   - রাউন্ড ট্রিপ ভাড়া: ₹4,720.00\\n\\n3. **সেরসি থেকে:**\\n   - অপারেটরসমূহ: অ্যারো এয়ারক্রাফ্ট, হিমালয়ান হেলি, কেস্ট্রেল এভিয়েশন\\n   - রাউন্ড ট্রিপ ভাড়া: ₹4,680.00\\n\\nএই হেলিকপ্টার সার্ভিসগুলি কেদারনাথ যাত্রাকে আরও সুবিধাজনক ও দ্রুত করে তোলে।'"
      ]
     },
     "execution_count": 33,
     "metadata": {},
     "output_type": "execute_result"
    }
   ],
   "source": [
    "# search_answer('কেদারনাথে হেলিকপ্টার রেট')#helicopter rate in kedarnath\n",
    "# Helicopter rates in Kedarnath are as follows:\\n\\n1. **From Guptakashi:**\\n - Operators: Aero Aircraft, Aran Aviation\\n - Round Trip Fare: \n",
    "# ₹7,750.00\\n\\n2. **From Fata:**\\n - Operators: Pawan Hans, Chipsan Aviation, Thambi Aviation, Pinnacle Air\\n - Round Trip Fare: ₹4,720.00\n",
    "# \\n\\n3. **From Sersi:**\\n - Operators: Aero Aircraft, Himalayan Heli, Kestrel Aviation\\n - Round Trip Fare: ₹4,680.00\\n\\n\n",
    "# These helicopter services make Kedarnath Yatra more convenient and faster."
   ]
  },
  {
   "cell_type": "code",
   "execution_count": 34,
   "metadata": {},
   "outputs": [
    {
     "data": {
      "text/plain": [
       "'Kedarnath ke liye helicopter ki dar yeh hai:\\n\\n1. **Guptkashi se:**\\n   - Operators: Arrow Aircraft, Aryan Aviation\\n   - Round Trip Fare: ₹7,750.00\\n\\n2. **Phata se:**\\n   - Operators: Pawan Hans, Chipsan Aviation, Thumby Aviation, Pinnacle Air\\n   - Round Trip Fare: ₹4,720.00\\n\\n3. **Sersi se:**\\n   - Operators: Arrow Aircraft, Himalayan Heli, Kestrel Aviation\\n   - Round Trip Fare: ₹4,680.00\\n\\nYeh rates aapke Kedarnath yatra ke liye upyogi ho sakte hain.'"
      ]
     },
     "execution_count": 34,
     "metadata": {},
     "output_type": "execute_result"
    }
   ],
   "source": [
    "# search_answer('mujhe kedarnath mai helicopteer lena hai')"
   ]
  },
  {
   "cell_type": "code",
   "execution_count": null,
   "metadata": {},
   "outputs": [],
   "source": [
    "print(search_answer(input('Pleae write your query related to chardham.')))"
   ]
  }
 ],
 "metadata": {
  "kernelspec": {
   "display_name": "myvenv",
   "language": "python",
   "name": "python3"
  },
  "language_info": {
   "codemirror_mode": {
    "name": "ipython",
    "version": 3
   },
   "file_extension": ".py",
   "mimetype": "text/x-python",
   "name": "python",
   "nbconvert_exporter": "python",
   "pygments_lexer": "ipython3",
   "version": "3.12.3"
  }
 },
 "nbformat": 4,
 "nbformat_minor": 2
}
