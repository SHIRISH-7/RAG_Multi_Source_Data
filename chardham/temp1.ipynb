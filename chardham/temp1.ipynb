{
 "cells": [
  {
   "cell_type": "code",
   "execution_count": 32,
   "metadata": {},
   "outputs": [
    {
     "name": "stderr",
     "output_type": "stream",
     "text": [
      "[NbConvertApp] Converting notebook temp1.ipynb to script\n",
      "c:\\program files (x86)\\python\\lib\\site-packages\\nbconvert\\filters\\strings.py:208: UserWarning: IPython is needed to transform IPython syntax to pure Python. Install ipython if you need this functionality.\n",
      "  warnings.warn(\n",
      "[NbConvertApp] Writing 3156 bytes to temp1.py\n"
     ]
    }
   ],
   "source": [
    "!jupyter nbconvert --to script temp1.ipynb"
   ]
  },
  {
   "cell_type": "code",
   "execution_count": 1,
   "metadata": {},
   "outputs": [],
   "source": [
    "import os\n",
    "from dotenv import load_dotenv\n",
    "load_dotenv()\n",
    "\n",
    "os.environ['OPENAI_API_KEY']=os.getenv('open_ai_key')"
   ]
  },
  {
   "cell_type": "markdown",
   "metadata": {},
   "source": [
    "# Wikipedia data fetching"
   ]
  },
  {
   "cell_type": "code",
   "execution_count": 3,
   "metadata": {},
   "outputs": [],
   "source": [
    "#data fetching\n",
    "#wikipedia\n",
    "from langchain_community.utilities import WikipediaAPIWrapper\n",
    "#to run the query\n",
    "from langchain_community.tools import WikipediaQueryRun\n",
    "#it will create a tool for wikipedia\n",
    "api=WikipediaAPIWrapper(top_k_results=1,doc_content_chars_max=250)\n",
    "wiki=WikipediaQueryRun(api_wrapper=api)"
   ]
  },
  {
   "cell_type": "markdown",
   "metadata": {},
   "source": [
    "# PDF and Website data fetching"
   ]
  },
  {
   "cell_type": "code",
   "execution_count": 19,
   "metadata": {},
   "outputs": [],
   "source": [
    "#it uses pypdf and beautiful soup to extract\n",
    "from langchain_community.document_loaders import PyPDFLoader,WebBaseLoader\n",
    "from langchain_text_splitters import RecursiveCharacterTextSplitter\n",
    "#extracting pdf and splitting docs\n",
    "docs=PyPDFLoader(r'D:\\azure-session\\NCERT-Class-10-History.pdf').load()\n",
    "text_splitter=RecursiveCharacterTextSplitter(chunk_size=1024,chunk_overlap=256)\n",
    "split_docs=text_splitter.split_documents(docs)\n",
    "# extracting web and spliting\n",
    "web_docs=WebBaseLoader('https://docs.python.org/3/tutorial/classes.html').load()\n",
    "split_web=text_splitter.split_documents(web_docs)"
   ]
  },
  {
   "cell_type": "code",
   "execution_count": 31,
   "metadata": {},
   "outputs": [],
   "source": [
    "from langchain_community.vectorstores import FAISS\n",
    "from langchain_openai import OpenAIEmbeddings\n",
    "\n",
    "#creating a db of embeddings for pdfs \n",
    "#it stores the embedding into RAM you can use vectordb like chromadb which stores into persistent storage\n",
    "db_pdf=FAISS.from_documents(docs,OpenAIEmbeddings())\n",
    "#creating a db of embeddings for website\n",
    "db_web=FAISS.from_documents(web_docs,OpenAIEmbeddings())\n",
    "#creating a retreiver\n",
    "#it will retreive related data from the db of pdfs\n",
    "retreiver_pdf=db_pdf.as_retriever()\n",
    "#it will retreive related data from the db of webs\n",
    "retreiver_web=db_web.as_retriever()\n",
    "\n",
    "#creating a tool which retreives which contains metadata\n",
    "from langchain.tools.retriever import create_retriever_tool\n",
    "#name should not contain space\n",
    "retreiver_tool_pdf=create_retriever_tool(retreiver_pdf,'History_book','It contains history of nationalism in Europe and India for the secondary class students')\n",
    "retreiver_tool_web=create_retriever_tool(retreiver_web,'Python_documentation','It contains about the classes and object in python')"
   ]
  },
  {
   "cell_type": "code",
   "execution_count": 25,
   "metadata": {},
   "outputs": [],
   "source": [
    "tools=[retreiver_tool_pdf,retreiver_tool_web,wiki]"
   ]
  },
  {
   "cell_type": "code",
   "execution_count": 26,
   "metadata": {},
   "outputs": [],
   "source": [
    "from langchain_openai import ChatOpenAI\n",
    "#you can use different llms\n",
    "llm=ChatOpenAI(model='gpt-3.5-turbo',temperature=0.5)"
   ]
  },
  {
   "cell_type": "code",
   "execution_count": 27,
   "metadata": {},
   "outputs": [],
   "source": [
    "#writing prompt\n",
    "from langchain import hub\n",
    "#you can use custom prompts mentioned in documentation\n",
    "prompt=hub.pull('hwchase17/openai-functions-agent')"
   ]
  },
  {
   "cell_type": "code",
   "execution_count": 28,
   "metadata": {},
   "outputs": [],
   "source": [
    "from langchain.agents import create_openai_functions_agent,AgentExecutor\n",
    "agent=create_openai_functions_agent(llm=llm,tools=tools,prompt=prompt)\n",
    "from langchain_core.output_parsers import StrOutputParser\n",
    "output_parser=StrOutputParser()\n",
    "agent_executer=AgentExecutor(agent=agent,tools=tools,verbose=True,output_parser=output_parser)"
   ]
  },
  {
   "cell_type": "code",
   "execution_count": 10,
   "metadata": {},
   "outputs": [
    {
     "name": "stderr",
     "output_type": "stream",
     "text": [
      "2024-06-10 15:35:05.027 \n",
      "  \u001b[33m\u001b[1mWarning:\u001b[0m to view this Streamlit app on a browser, run it with the following\n",
      "  command:\n",
      "\n",
      "    streamlit run C:\\Users\\shiri\\AppData\\Roaming\\Python\\Python312\\site-packages\\ipykernel_launcher.py [ARGUMENTS]\n",
      "2024-06-10 15:35:05.029 Session state does not function when running a script without `streamlit run`\n"
     ]
    }
   ],
   "source": [
    "import streamlit as st\n",
    "st.title('RAG with multiple sources')\n",
    "input_text=st.text_input('Write your query.')\n",
    "\n",
    "if input_text:\n",
    "    op=agent_executer.invoke({'input':input_text})\n",
    "    st.write(op['output'])"
   ]
  }
 ],
 "metadata": {
  "kernelspec": {
   "display_name": "Python 3",
   "language": "python",
   "name": "python3"
  },
  "language_info": {
   "codemirror_mode": {
    "name": "ipython",
    "version": 3
   },
   "file_extension": ".py",
   "mimetype": "text/x-python",
   "name": "python",
   "nbconvert_exporter": "python",
   "pygments_lexer": "ipython3",
   "version": "3.12.3"
  }
 },
 "nbformat": 4,
 "nbformat_minor": 2
}
